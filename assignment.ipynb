{
 "cells": [
  {
   "cell_type": "markdown",
   "id": "9e0bc407",
   "metadata": {},
   "source": [
    "\n",
    "## 🔹 Task 1: Managing Conversation History with Summarization\n",
    "\n"
   ]
  },
  {
   "cell_type": "code",
   "execution_count": 1,
   "id": "713e2383",
   "metadata": {},
   "outputs": [
    {
     "name": "stdout",
     "output_type": "stream",
     "text": [
      "Conversation history after this message:\n",
      "[{'role': 'user', 'content': 'Hello, I am looking for movie suggestions.'}]\n",
      "--------------------------------------------------\n",
      "Conversation history after this message:\n",
      "[{'role': 'user', 'content': 'Hello, I am looking for movie suggestions.'}, {'role': 'assistant', 'content': 'Sure! What genre are you interested in?'}]\n",
      "--------------------------------------------------\n",
      "Conversation history after this message:\n",
      "[{'role': 'system', 'content': 'Summary so far: user: Hello, I am looking for... | assistant: Sure! What genre are you... | user: I like action and thriller...'}]\n",
      "--------------------------------------------------\n",
      "Conversation history after this message:\n",
      "[{'role': 'assistant', 'content': 'Great! Inception and John Wick could be good choices.'}]\n",
      "--------------------------------------------------\n",
      "Conversation history after this message:\n",
      "[{'role': 'assistant', 'content': 'Great! Inception and John Wick could be good choices.'}, {'role': 'user', 'content': 'Thanks, I’ll watch Inception.'}]\n",
      "--------------------------------------------------\n",
      "Conversation history after this message:\n",
      "[{'role': 'system', 'content': \"Summary so far: assistant: Great! Inception and John Wick... | user: Thanks, I’ll watch Inception. | assistant: You're welcome! Enjoy the movie.\"}]\n",
      "--------------------------------------------------\n"
     ]
    }
   ],
   "source": [
    "\n",
    "from collections import deque\n",
    "\n",
    "class ConversationManager:\n",
    "    def __init__(self, max_turns=None, max_chars=None, summarize_every=3):\n",
    "        self.history = []\n",
    "        self.max_turns = max_turns\n",
    "        self.max_chars = max_chars\n",
    "        self.summarize_every = summarize_every\n",
    "        self.run_count = 0\n",
    "\n",
    "    def add_message(self, role, content):\n",
    "        self.history.append({\"role\": role, \"content\": content})\n",
    "        self.run_count += 1\n",
    "        self._truncate_history()\n",
    "        if self.run_count % self.summarize_every == 0:\n",
    "            self._summarize_history()\n",
    "\n",
    "    def _truncate_history(self):\n",
    "        if self.max_turns:\n",
    "            self.history = self.history[-self.max_turns:]\n",
    "        if self.max_chars:\n",
    "            total_chars = 0\n",
    "            truncated = []\n",
    "            for msg in reversed(self.history):\n",
    "                if total_chars + len(msg[\"content\"]) <= self.max_chars:\n",
    "                    truncated.insert(0, msg)\n",
    "                    total_chars += len(msg[\"content\"])\n",
    "                else:\n",
    "                    break\n",
    "            self.history = truncated\n",
    "\n",
    "    def _summarize_history(self):\n",
    "        summary = []\n",
    "        for msg in self.history:\n",
    "            snippet = \" \".join(msg[\"content\"].split()[:5]) + (\"...\" if len(msg[\"content\"].split()) > 5 else \"\")\n",
    "            summary.append(f\"{msg['role']}: {snippet}\")\n",
    "        summarized_text = \" | \".join(summary)\n",
    "        self.history = [{\"role\": \"system\", \"content\": f\"Summary so far: {summarized_text}\"}]\n",
    "\n",
    "    def get_history(self):\n",
    "        return self.history\n",
    "\n",
    "\n",
    "# Demo Task 1\n",
    "cm = ConversationManager(max_turns=4, max_chars=150, summarize_every=3)\n",
    "\n",
    "sample_conversation = [\n",
    "    (\"user\", \"Hello, I am looking for movie suggestions.\"),\n",
    "    (\"assistant\", \"Sure! What genre are you interested in?\"),\n",
    "    (\"user\", \"I like action and thriller movies.\"),\n",
    "    (\"assistant\", \"Great! Inception and John Wick could be good choices.\"),\n",
    "    (\"user\", \"Thanks, I’ll watch Inception.\"),\n",
    "    (\"assistant\", \"You're welcome! Enjoy the movie.\")\n",
    "]\n",
    "\n",
    "for role, msg in sample_conversation:\n",
    "    cm.add_message(role, msg)\n",
    "    print(\"Conversation history after this message:\")\n",
    "    print(cm.get_history())\n",
    "    print(\"-\"*50)\n"
   ]
  },
  {
   "cell_type": "markdown",
   "id": "7defe82d",
   "metadata": {},
   "source": [
    "\n",
    "## 🔹 Task 2: JSON Schema Classification & Information Extraction\n",
    "\n",
    "\n"
   ]
  },
  {
   "cell_type": "code",
   "execution_count": 2,
   "id": "dd948116",
   "metadata": {},
   "outputs": [],
   "source": [
    "\n",
    "import os\n",
    "from openai import OpenAI\n",
    "\n",
    "os.environ[\"GROQ_API_KEY\"] = \"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\"\n",
    "\n",
    "client = OpenAI(\n",
    "    api_key=os.environ[\"GROQ_API_KEY\"],\n",
    "    base_url=\"https://api.groq.com/openai/v1\"\n",
    ")\n"
   ]
  },
  {
   "cell_type": "code",
   "execution_count": 3,
   "id": "ffea1cc5",
   "metadata": {},
   "outputs": [
    {
     "name": "stdout",
     "output_type": "stream",
     "text": [
      "Chat: Hi, I am Piyush Borney, 22 years old, from Nagpur. My email is piyush@example.com and my phone is 9876543210.\n",
      "Extracted JSON: {'age': 22, 'email': 'piyush@example.com', 'location': 'Nagpur', 'name': 'Piyush Borney', 'phone': '9876543210'}\n",
      "------------------------------------------------------------\n",
      "Chat: Hello, I am Sarah, 30, living in New York. You can reach me at sarah123@gmail.com or call at 1234567890.\n",
      "Extracted JSON: {'age': 30, 'email': 'sarah123@gmail.com', 'location': 'New York', 'name': 'Sarah', 'phone': '1234567890'}\n",
      "------------------------------------------------------------\n",
      "Chat: Hey, name's Arjun, 25, based in Bangalore. Contact: arjun@workmail.com, phone 8887776665.\n",
      "Extracted JSON: {'age': 25, 'email': 'arjun@workmail.com', 'location': 'Bangalore', 'name': 'Arjun', 'phone': '8887776665'}\n",
      "------------------------------------------------------------\n"
     ]
    }
   ],
   "source": [
    "\n",
    "import json\n",
    "\n",
    "functions = [\n",
    "    {\n",
    "        \"name\": \"extract_user_info\",\n",
    "        \"description\": \"Extract user details from chat\",\n",
    "        \"parameters\": {\n",
    "            \"type\": \"object\",\n",
    "            \"properties\": {\n",
    "                \"name\": {\"type\": \"string\"},\n",
    "                \"email\": {\"type\": \"string\"},\n",
    "                \"phone\": {\"type\": \"string\"},\n",
    "                \"location\": {\"type\": \"string\"},\n",
    "                \"age\": {\"type\": \"integer\"}\n",
    "            },\n",
    "            \"required\": [\"name\", \"email\", \"phone\", \"location\", \"age\"]\n",
    "        },\n",
    "    }\n",
    "]\n",
    "\n",
    "# Sample chats\n",
    "chats = [\n",
    "    \"Hi, I am Piyush Borney, 22 years old, from Nagpur. My email is piyush@example.com and my phone is 9876543210.\",\n",
    "    \"Hello, I am Sarah, 30, living in New York. You can reach me at sarah123@gmail.com or call at 1234567890.\",\n",
    "    \"Hey, name's Arjun, 25, based in Bangalore. Contact: arjun@workmail.com, phone 8887776665.\"\n",
    "]\n",
    "\n",
    "for chat in chats:\n",
    "    response = client.chat.completions.create(\n",
    "    model=\"llama-3.3-70b-versatile\",   \n",
    "    messages=[{\"role\": \"user\", \"content\": chat}],\n",
    "    functions=functions,\n",
    "    function_call={\"name\": \"extract_user_info\"}   \n",
    ")\n",
    "\n",
    "    structured = json.loads(response.choices[0].message.function_call.arguments)\n",
    "    print(\"Chat:\", chat)\n",
    "    print(\"Extracted JSON:\", structured)\n",
    "    print(\"-\"*60)\n"
   ]
  },
  {
   "cell_type": "code",
   "execution_count": null,
   "id": "1c7d8421",
   "metadata": {},
   "outputs": [],
   "source": []
  }
 ],
 "metadata": {
  "kernelspec": {
   "display_name": "Python 3",
   "language": "python",
   "name": "python3"
  },
  "language_info": {
   "codemirror_mode": {
    "name": "ipython",
    "version": 3
   },
   "file_extension": ".py",
   "mimetype": "text/x-python",
   "name": "python",
   "nbconvert_exporter": "python",
   "pygments_lexer": "ipython3",
   "version": "3.10.5"
  }
 },
 "nbformat": 4,
 "nbformat_minor": 5
}
